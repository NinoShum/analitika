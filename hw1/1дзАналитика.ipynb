{
  "metadata": {
    "language_info": {
      "codemirror_mode": {
        "name": "python",
        "version": 3
      },
      "file_extension": ".py",
      "mimetype": "text/x-python",
      "name": "python",
      "nbconvert_exporter": "python",
      "pygments_lexer": "ipython3",
      "version": "3.8"
    },
    "kernelspec": {
      "name": "python",
      "display_name": "Python (Pyodide)",
      "language": "python"
    }
  },
  "nbformat_minor": 4,
  "nbformat": 4,
  "cells": [
    {
      "cell_type": "markdown",
      "source": "## Задача 1",
      "metadata": {}
    },
    {
      "cell_type": "markdown",
      "source": "#### На складе лежат разные фрукты в разном количестве.\n#### Нужно написать функцию, которая на вход принимает любое количество названий фруктов и их количество, а возвращает общее количество фруктов на складе",
      "metadata": {}
    },
    {
      "cell_type": "code",
      "source": "store = dict(Apple=20, Banana=27, Lemon=13, pear=10)\nstore",
      "metadata": {
        "trusted": true
      },
      "execution_count": 3,
      "outputs": [
        {
          "execution_count": 3,
          "output_type": "execute_result",
          "data": {
            "text/plain": "{'Apple': 20, 'Banana': 27, 'Lemon': 13, 'pear': 10}"
          },
          "metadata": {}
        }
      ]
    },
    {
      "cell_type": "code",
      "source": "sum_fruits = sum(store.values())\nsum_fruits\nprint(\"На складе всего фруктов:\", sum_fruits)",
      "metadata": {
        "trusted": true
      },
      "execution_count": 5,
      "outputs": [
        {
          "name": "stdout",
          "text": "На складе всего фруктов: 70\n",
          "output_type": "stream"
        }
      ]
    },
    {
      "cell_type": "markdown",
      "source": "## Задача 2",
      "metadata": {}
    },
    {
      "cell_type": "markdown",
      "source": "#### Дан список с затратами на рекламу. Но в данных есть ошибки, некоторые затраты имеют отрицательную величину. Удалите такие значения из списка и посчитайте суммарные затраты\n#### [100, 125, -90, 345, 655, -1, 0, 200]\n#### Используйте list comprehensions",
      "metadata": {}
    },
    {
      "cell_type": "code",
      "source": "old_list = [100, 125, -90, 345, 655, -1, 0, 200]\nnew_list = [c for c in old_list if c >= 0]\nprint(\"Новый список:\", new_list)\nsum_num_list = sum(new_list)\nprint(\"Суммарные затраты:\", sum_num_list)",
      "metadata": {
        "trusted": true
      },
      "execution_count": 9,
      "outputs": [
        {
          "name": "stdout",
          "text": "Новый список: [100, 125, 345, 655, 0, 200]\nСуммарные затраты: 1425\n",
          "output_type": "stream"
        }
      ]
    },
    {
      "cell_type": "markdown",
      "source": "## Задача 3",
      "metadata": {}
    },
    {
      "cell_type": "markdown",
      "source": "#### Даны два списка.\n#### Дата покупки\n#### ['2021-09-14', '2021-12-15', '2021-09-08', '2021-12-05', '2021-10-09', '2021-09-30', '2021-12-22', '2021-11-29', '2021-12-24', '2021-11-26', '2021-10-27', '2021-12-18', '2021-11-09', '2021-11-23', '2021-09-27', '2021-10-02', '2021-12-27', '2021-09-20', '2021-12-13', '2021-11-01', '2021-11-09', '2021-12-06', '2021-12-08', '2021-10-09', '2021-10-31', '2021-09-30', '2021-11-09', '2021-12-13', '2021-10-26', '2021-12-09']\n#### Суммы покупок по датам\n#### [1270, 8413, 9028, 3703, 5739, 4095, 295, 4944, 5723, 3701, 4471, 651, 7037, 4274, 6275, 4988, 6930, 2971, 6592, 2004, 2822, 519, 3406, 2732, 5015, 2008, 316, 6333, 5700, 2887]",
      "metadata": {}
    },
    {
      "cell_type": "markdown",
      "source": "### Задача 3.1",
      "metadata": {}
    },
    {
      "cell_type": "markdown",
      "source": "#### Найдите, какая выручка у компании в ноябре\n#### Используйте list comprehensions",
      "metadata": {}
    },
    {
      "cell_type": "code",
      "source": "data_pay = ['2021-09-14', '2021-12-15', '2021-09-08', '2021-12-05', '2021-10-09', '2021-09-30', '2021-12-22', '2021-11-29', '2021-12-24', '2021-11-26', '2021-10-27', '2021-12-18', '2021-11-09', '2021-11-23', '2021-09-27', '2021-10-02', '2021-12-27', '2021-09-20', '2021-12-13', '2021-11-01', '2021-11-09', '2021-12-06', '2021-12-08', '2021-10-09', '2021-10-31', '2021-09-30', '2021-11-09', '2021-12-13', '2021-10-26', '2021-12-09'] \nsum_pay = [1270, 8413, 9028, 3703, 5739, 4095, 295, 4944, 5723, 3701, 4471, 651, 7037, 4274, 6275, 4988, 6930, 2971, 6592, 2004, 2822, 519, 3406, 2732, 5015, 2008, 316, 6333, 5700, 2887]\nresult = [sum_pay[i] for i in range(len(data_pay)) if data_pay[i].split(\"-\")[1] == \"11\"]\nprint(\"Выручка компании в ноябре:\", sum(result))",
      "metadata": {
        "trusted": true
      },
      "execution_count": 10,
      "outputs": [
        {
          "name": "stdout",
          "text": "Выручка компании в ноябре: 25098\n",
          "output_type": "stream"
        }
      ]
    },
    {
      "cell_type": "markdown",
      "source": "### Задача 3.2",
      "metadata": {}
    },
    {
      "cell_type": "markdown",
      "source": "#### Найдите выручку компании в зависимости от месяца\n#### Для этого напишите функцию, которая на вход принимает список с датами и список с выручкой, а на выходе словарь, где ключи - это месяцы, а значения - это выручка.\n#### Используйте аннотирование типов.",
      "metadata": {}
    },
    {
      "cell_type": "code",
      "source": "def revenue_month(date_: list, revenue: list) -> dict:\n    dict_ = {}\n    for i in range(len(date_)):\n        dict_[int(date_[i].split('-')[1])] = dict_.get(int(date_[i].split('-')[1]),0) + revenue[i]\n    return dict_\nprint(\"Выручка компании в зависимости от месяца:\", revenue_month(data_pay, sum_pay))",
      "metadata": {
        "trusted": true
      },
      "execution_count": 12,
      "outputs": [
        {
          "name": "stdout",
          "text": "Выручка компании в зависимости от месяца: {9: 25647, 12: 45452, 10: 28645, 11: 25098}\n",
          "output_type": "stream"
        }
      ]
    }
  ]
}